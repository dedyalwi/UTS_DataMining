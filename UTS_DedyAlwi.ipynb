{
 "cells": [
  {
   "cell_type": "code",
   "execution_count": 9,
   "id": "b0e0a298",
   "metadata": {},
   "outputs": [],
   "source": [
    "import numpy as np"
   ]
  },
  {
   "cell_type": "code",
   "execution_count": 10,
   "id": "2e694127",
   "metadata": {},
   "outputs": [],
   "source": [
    "import pandas as pd"
   ]
  },
  {
   "cell_type": "code",
   "execution_count": 11,
   "id": "14d577ca",
   "metadata": {},
   "outputs": [],
   "source": [
    "Tab = pd.read_csv(\"Tab.csv\")"
   ]
  },
  {
   "cell_type": "code",
   "execution_count": 12,
   "id": "d327493d",
   "metadata": {},
   "outputs": [
    {
     "name": "stdout",
     "output_type": "stream",
     "text": [
      "  Unnamed: 0     Negara  Populasi    Area    Ibukota\n",
      "0         IN  Indonesia       250  123456    Jakarta\n",
      "1         MA   Malaysia        25    3456         KL\n",
      "2         SI  Singapura        15     456  Singapura\n",
      "3         JP     Jepang        60    5678      Tokyo\n",
      "4         TH   Thailand        45     678    Bangkok\n"
     ]
    }
   ],
   "source": [
    "print(Tab)"
   ]
  },
  {
   "cell_type": "code",
   "execution_count": 13,
   "id": "4b830326",
   "metadata": {},
   "outputs": [],
   "source": [
    "Tab2 = Tab[['Negara', 'Ibukota']]"
   ]
  },
  {
   "cell_type": "code",
   "execution_count": 14,
   "id": "19b5327c",
   "metadata": {},
   "outputs": [
    {
     "name": "stdout",
     "output_type": "stream",
     "text": [
      "      Negara    Ibukota\n",
      "0  Indonesia    Jakarta\n",
      "1   Malaysia         KL\n",
      "2  Singapura  Singapura\n",
      "3     Jepang      Tokyo\n",
      "4   Thailand    Bangkok\n"
     ]
    }
   ],
   "source": [
    "print(Tab2)"
   ]
  },
  {
   "cell_type": "code",
   "execution_count": null,
   "id": "b911e1a5",
   "metadata": {},
   "outputs": [],
   "source": []
  }
 ],
 "metadata": {
  "kernelspec": {
   "display_name": "Python 3 (ipykernel)",
   "language": "python",
   "name": "python3"
  },
  "language_info": {
   "codemirror_mode": {
    "name": "ipython",
    "version": 3
   },
   "file_extension": ".py",
   "mimetype": "text/x-python",
   "name": "python",
   "nbconvert_exporter": "python",
   "pygments_lexer": "ipython3",
   "version": "3.11.5"
  }
 },
 "nbformat": 4,
 "nbformat_minor": 5
}
